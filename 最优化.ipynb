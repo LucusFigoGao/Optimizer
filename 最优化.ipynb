{
 "cells": [
  {
   "cell_type": "code",
   "execution_count": null,
   "metadata": {
    "colab": {
     "base_uri": "https://localhost:8080/"
    },
    "executionInfo": {
     "elapsed": 67416,
     "status": "ok",
     "timestamp": 1615889976118,
     "user": {
      "displayName": "Gao Figo",
      "photoUrl": "",
      "userId": "10942837231047965806"
     },
     "user_tz": -480
    },
    "id": "R1TdyFAXiteo",
    "outputId": "dea48034-b16f-4fac-8b9e-f37fea245556"
   },
   "outputs": [],
   "source": [
    "# 授权绑定Google Drive\n",
    "!apt-get install -y -qq software-properties-common python-software-properties module-init-tools\n",
    "!add-apt-repository -y ppa:alessandro-strada/ppa 2>&1 > /dev/null\n",
    "!apt-get update -qq 2>&1 > /dev/null\n",
    "!apt-get -y install -qq google-drive-ocamlfuse fuse\n",
    "from google.colab import auth\n",
    "auth.authenticate_user()\n",
    "from oauth2client.client import GoogleCredentials\n",
    "creds = GoogleCredentials.get_application_default()\n",
    "import getpass\n",
    "!google-drive-ocamlfuse -headless -id={creds.client_id} -secret={creds.client_secret} < /dev/null 2>&1 | grep URL\n",
    "vcode = getpass.getpass()\n",
    "!echo {vcode} | google-drive-ocamlfuse -headless -id={creds.client_id} -secret={creds.client_secret}"
   ]
  },
  {
   "cell_type": "code",
   "execution_count": null,
   "metadata": {
    "executionInfo": {
     "elapsed": 1075,
     "status": "ok",
     "timestamp": 1615889985389,
     "user": {
      "displayName": "Gao Figo",
      "photoUrl": "",
      "userId": "10942837231047965806"
     },
     "user_tz": -480
    },
    "id": "yN9k5WNDixRG"
   },
   "outputs": [],
   "source": [
    "# 指定Google Drive云端硬盘的根目录，名为drive\n",
    "!mkdir -p drive\n",
    "!google-drive-ocamlfuse drive"
   ]
  },
  {
   "cell_type": "code",
   "execution_count": null,
   "metadata": {
    "colab": {
     "base_uri": "https://localhost:8080/",
     "height": 103,
     "referenced_widgets": [
      "46934bccbebb407295e009ba652a3629",
      "2d71dc6a787647238ae1bae37810fbab",
      "565efdc1bf144a118ed638f8597d7cfd",
      "bfedb2d3ece3451ea329430363e8dd61",
      "e2a40fcea5b5482d9799f19c20fa60f0",
      "5d56259f7ad74914be64a06158410366",
      "6f9d93eb59ba4474bba343cac7c35f8f",
      "477d862e5f194dc98c5eb9168af6f219"
     ]
    },
    "executionInfo": {
     "elapsed": 5351,
     "status": "ok",
     "timestamp": 1615889994568,
     "user": {
      "displayName": "Gao Figo",
      "photoUrl": "",
      "userId": "10942837231047965806"
     },
     "user_tz": -480
    },
    "id": "SoE8f0K2iOKz",
    "outputId": "202375ae-c73a-452a-fbcb-54c90115cdc9"
   },
   "outputs": [],
   "source": [
    "import torch\n",
    "import torchvision as tv\n",
    "import torch.nn as nn\n",
    "from tqdm import tqdm\n",
    "import matplotlib.pyplot as plt\n",
    "\n",
    "\n",
    "device = torch.device(\"cuda:0\" if torch.cuda.is_available() else \"cpu\")\n",
    "print(\"当前可用的设备为:{}\".format(device))"
   ]
  },
  {
   "cell_type": "code",
   "execution_count": null,
   "metadata": {
    "executionInfo": {
     "elapsed": 983,
     "status": "ok",
     "timestamp": 1615890000749,
     "user": {
      "displayName": "Gao Figo",
      "photoUrl": "",
      "userId": "10942837231047965806"
     },
     "user_tz": -480
    },
    "id": "94d2whFXiOK7"
   },
   "outputs": [],
   "source": [
    "# 优化器选择\n",
    "optimizers = {\n",
    "    \"sgd\": torch.optim.SGD(net.parameters(), lr=0.01, momentum=0.9),\n",
    "    \"adagrad\": torch.optim.Adagrad(net.parameters(), lr=0.1),\n",
    "    \"adadelta\": torch.optim.Adadelta(net.parameters(), lr=0.01, rho=0.5, eps=1e-06, weight_decay=0),\n",
    "    \"adam\": torch.optim.Adam(net.parameters(), lr=1e-2),\n",
    "}"
   ]
  },
  {
   "cell_type": "code",
   "execution_count": null,
   "metadata": {
    "executionInfo": {
     "elapsed": 1010,
     "status": "ok",
     "timestamp": 1615890264652,
     "user": {
      "displayName": "Gao Figo",
      "photoUrl": "",
      "userId": "10942837231047965806"
     },
     "user_tz": -480
    },
    "id": "4CJy_lPQiOK8"
   },
   "outputs": [],
   "source": [
    "data_transform = {\n",
    "    \"train\": tv.transforms.Compose([tv.transforms.RandomCrop(28, padding=4),\n",
    "                                    tv.transforms.RandomHorizontalFlip(),  # 随机翻转 (数据增强的操作)\n",
    "                                    tv.transforms.ToTensor(),  # 转化为Tensor\n",
    "                                    tv.transforms.Normalize((0.5, 0.5, 0.5), (0.5, 0.5, 0.5))]),  # 标准化\n",
    "\n",
    "    \"test\": tv.transforms.Compose([tv.transforms.ToTensor(),\n",
    "                                   tv.transforms.Normalize((0.5, 0.5, 0.5), (0.5, 0.5, 0.5))])\n",
    "}"
   ]
  },
  {
   "cell_type": "code",
   "execution_count": null,
   "metadata": {
    "colab": {
     "base_uri": "https://localhost:8080/",
     "height": 121,
     "referenced_widgets": [
      "e3f91cefe3e34d4abf86c327b570bee2",
      "2933f65d6ec9468697c4365d3474f098",
      "a28854a37d25430aa309039066bb5d93",
      "cd0f286c3c1e49b6877e951ae9620a6b",
      "e09886c1368c4df8a5bf96ad735db63e",
      "e6fa3b54ad3442fcb17e8986a7487a0d",
      "9d2c826fed0a4974b4bb24071f656e77",
      "b7fcc1bf8b9b4868b4d82ef82a9616fc"
     ]
    },
    "executionInfo": {
     "elapsed": 28015,
     "status": "ok",
     "timestamp": 1615890293286,
     "user": {
      "displayName": "Gao Figo",
      "photoUrl": "",
      "userId": "10942837231047965806"
     },
     "user_tz": -480
    },
    "id": "zQY0LLlQiOK8",
    "outputId": "e52ac309-9fab-468d-9650-b442ed224ae4",
    "tags": [
     "outputPrepend"
    ]
   },
   "outputs": [],
   "source": [
    "train_dataset = tv.datasets.CIFAR10(root='./data', train=True, download=True, transform=data_transform['train'])\n",
    "train_dataset, test_dataset, x = torch.utils.data.random_split(train_dataset, [10000, 5000, 35000])\n",
    "\n",
    "train_loader = torch.utils.data.DataLoader(train_dataset, batch_size=100, shuffle=True, num_workers=0)\n",
    "test_loader = torch.utils.data.DataLoader(test_dataset, batch_size=100, shuffle=False, num_workers=0)"
   ]
  },
  {
   "cell_type": "code",
   "execution_count": null,
   "metadata": {
    "executionInfo": {
     "elapsed": 1029,
     "status": "ok",
     "timestamp": 1615890359446,
     "user": {
      "displayName": "Gao Figo",
      "photoUrl": "",
      "userId": "10942837231047965806"
     },
     "user_tz": -480
    },
    "id": "EoDFA47uiOK9"
   },
   "outputs": [],
   "source": [
    "def model_run(net, train_loader, val_loader, optimizer, loss_function):\n",
    "    best_accuracy = 0.0  # 最佳准确率\n",
    "    train_steps = len(train_loader)\n",
    "    train_Loss = []  # 训练集损失\n",
    "    val_Loss = []  # 测试集损失\n",
    "    Acc_Val = []  # 测试集的准确率\n",
    "    Acc_Train = []  # 训练集的准确率\n",
    "    val_num = 10000\n",
    "    Epoch = 5  # 迭代次数\n",
    "    num1 = 0\n",
    "    num2 = 0\n",
    "    for epoch in range(Epoch):\n",
    "        # train\n",
    "        net.train()\n",
    "        running_loss = 0.0\n",
    "        train_bar = tqdm(train_loader)  # 显示进度条函数\n",
    "        score_train = 0\n",
    "        running_loss = 0.0\n",
    "        for step, data in enumerate(train_bar):\n",
    "            images, labels = data\n",
    "            optimizer.zero_grad()  # 清空梯度信息\n",
    "            outputs = net(images.to(device))  # 将图片信息导入到GPU上\n",
    "            pre_l = torch.max(outputs, dim=1)[1]\n",
    "            score_train += (pre_l == labels.to(device)).sum().item()\n",
    "            loss = loss_function(outputs, labels.to(device))  # 定义损失函数\n",
    "            loss.backward()\n",
    "            optimizer.step()\n",
    "            running_loss += loss.item()  # print statistics\n",
    "            num1 += 1\n",
    "\n",
    "        train_bar.desc = \"train epoch[{}/{}] |**| loss:{:.3f}\".format(epoch + 1, Epoch, loss)\n",
    "        train_Loss.append(running_loss/num1)\n",
    "        Acc_Train.append(score_train / 5e4)\n",
    "\n",
    "        # validation\n",
    "        net.eval()\n",
    "        accuracy_val = 0.0\n",
    "        val_bar = tqdm(val_loader)  # 显示进度条函数\n",
    "        val_running_loss = 0.0\n",
    "        with torch.no_grad():  # 验证的时候不去更新梯度\n",
    "            for val in val_bar:\n",
    "                val_images, val_labels = val\n",
    "                outputs = net(val_images.to(device))\n",
    "                val_loss = loss_function(outputs, val_labels.to(device))\n",
    "                predict_label = torch.max(outputs, dim=1)[1]\n",
    "                accuracy_val += (predict_label == val_labels.to(device)).sum().item()\n",
    "                val_running_loss += val_loss.item()\n",
    "                num2 += 1\n",
    "\n",
    "            acc_val = accuracy_val / val_num\n",
    "            Acc_Val.append(acc_val)\n",
    "            val_Loss.append(val_running_loss/num2)\n",
    "            val_bar.desc = \"Epoch[{}/{}] loss:{:.3f} test accuracy:{:.3f}%\".format(epoch + 1, Epoch, val_running_loss, acc_val * 100)\n",
    "            if acc_val > best_accuracy:\n",
    "                best_accuracy = acc_val\n",
    "        print('\\n=-=-=-=-=-=-=-=-=-=-=-=-=-=-=-=-=-=-=-=-=-=-=-=-=-=-=-=-=-=-=-=-=-=-=-=-=-=-=-=-=-=-=-=-=-=\\n')\n",
    "        num1=0\n",
    "        num2=0\n",
    "    print(\"Finish Training!\")\n",
    "    return train_Loss, Acc_Train, val_Loss, Acc_Val"
   ]
  },
  {
   "cell_type": "code",
   "execution_count": null,
   "metadata": {},
   "outputs": [],
   "source": [
    "def optim(device, optim):\n",
    "    net = tv.models.resnet18(pretrained=False)\n",
    "    net.fc = nn.Linear(512, 10)\n",
    "    net.to(device)\n",
    "    loss_function = nn.CrossEntropyLoss()\n",
    "    train_Loss, Acc_Train, val_Loss, Acc_Val = model_run(net, train_loader, test_loader, optim, loss_function)\n",
    "    return train_Loss"
   ]
  },
  {
   "source": [
    "## SGD(Momentum)"
   ],
   "cell_type": "markdown",
   "metadata": {}
  },
  {
   "cell_type": "code",
   "execution_count": null,
   "metadata": {},
   "outputs": [],
   "source": [
    "optim1 = optimizers[\"sgd\"]\n",
    "train_Loss1 = optim(device, optim1)"
   ]
  },
  {
   "source": [
    "## AdaGrad"
   ],
   "cell_type": "markdown",
   "metadata": {}
  },
  {
   "cell_type": "code",
   "execution_count": null,
   "metadata": {},
   "outputs": [],
   "source": [
    "optim2 = optimizers[\"adagrad\"]\n",
    "train_Loss2 = optim(device, optim2)"
   ]
  },
  {
   "source": [
    "## AdaDelta"
   ],
   "cell_type": "markdown",
   "metadata": {}
  },
  {
   "cell_type": "code",
   "execution_count": null,
   "metadata": {},
   "outputs": [],
   "source": [
    "optim3 = optimizers[\"adadelta\"]\n",
    "train_Loss3 = optim(device, optim3)"
   ]
  },
  {
   "source": [
    "## Adam"
   ],
   "cell_type": "markdown",
   "metadata": {}
  },
  {
   "cell_type": "code",
   "execution_count": null,
   "metadata": {},
   "outputs": [],
   "source": [
    "optim4 = optimizers[\"adam\"]\n",
    "train_Loss4 = optim(device, optim4)"
   ]
  },
  {
   "source": [
    "## 损失函数下降曲线"
   ],
   "cell_type": "markdown",
   "metadata": {}
  },
  {
   "cell_type": "code",
   "execution_count": null,
   "metadata": {
    "id": "uTebpcNiiOK-"
   },
   "outputs": [],
   "source": [
    "plt.figure(figsize=(5,8))\n",
    "line1, = plt.plot(train_Loss1, color=\"deepskyblue\", label=\"SGD(Momentum)\")\n",
    "line2, = plt.plot(train_Loss2, color='firebrick', label=\"Adagrad\")\n",
    "line3, = plt.plot(train_Loss3, color='deeppink', label=\"AdaDelta\")\n",
    "line4, = plt.plot(train_Loss4, color='darkorange', label=\"Adam\")\n",
    "first_legend = plt.legend(handles=[line1, line2, line3, line4], loc='upper right')\n",
    "plt.xlabel(\"Epoch\")\n",
    "plt.ylabel(\"Loss\")\n",
    "plt.grid()\n",
    "plt.title(\"Comparison between Two Optimizers\")\n",
    "plt.show()"
   ]
  }
 ],
 "metadata": {
  "colab": {
   "collapsed_sections": [],
   "name": "最优化.ipynb",
   "provenance": []
  },
  "kernelspec": {
   "display_name": "Python 3",
   "language": "python",
   "name": "python3"
  },
  "language_info": {
   "codemirror_mode": {
    "name": "ipython",
    "version": 3
   },
   "file_extension": ".py",
   "mimetype": "text/x-python",
   "name": "python",
   "nbconvert_exporter": "python",
   "pygments_lexer": "ipython3",
   "version": "3.8.5-final"
  },
  "widgets": {
   "application/vnd.jupyter.widget-state+json": {
    "2933f65d6ec9468697c4365d3474f098": {
     "model_module": "@jupyter-widgets/base",
     "model_name": "LayoutModel",
     "state": {
      "_model_module": "@jupyter-widgets/base",
      "_model_module_version": "1.2.0",
      "_model_name": "LayoutModel",
      "_view_count": null,
      "_view_module": "@jupyter-widgets/base",
      "_view_module_version": "1.2.0",
      "_view_name": "LayoutView",
      "align_content": null,
      "align_items": null,
      "align_self": null,
      "border": null,
      "bottom": null,
      "display": null,
      "flex": null,
      "flex_flow": null,
      "grid_area": null,
      "grid_auto_columns": null,
      "grid_auto_flow": null,
      "grid_auto_rows": null,
      "grid_column": null,
      "grid_gap": null,
      "grid_row": null,
      "grid_template_areas": null,
      "grid_template_columns": null,
      "grid_template_rows": null,
      "height": null,
      "justify_content": null,
      "justify_items": null,
      "left": null,
      "margin": null,
      "max_height": null,
      "max_width": null,
      "min_height": null,
      "min_width": null,
      "object_fit": null,
      "object_position": null,
      "order": null,
      "overflow": null,
      "overflow_x": null,
      "overflow_y": null,
      "padding": null,
      "right": null,
      "top": null,
      "visibility": null,
      "width": null
     }
    },
    "2d71dc6a787647238ae1bae37810fbab": {
     "model_module": "@jupyter-widgets/base",
     "model_name": "LayoutModel",
     "state": {
      "_model_module": "@jupyter-widgets/base",
      "_model_module_version": "1.2.0",
      "_model_name": "LayoutModel",
      "_view_count": null,
      "_view_module": "@jupyter-widgets/base",
      "_view_module_version": "1.2.0",
      "_view_name": "LayoutView",
      "align_content": null,
      "align_items": null,
      "align_self": null,
      "border": null,
      "bottom": null,
      "display": null,
      "flex": null,
      "flex_flow": null,
      "grid_area": null,
      "grid_auto_columns": null,
      "grid_auto_flow": null,
      "grid_auto_rows": null,
      "grid_column": null,
      "grid_gap": null,
      "grid_row": null,
      "grid_template_areas": null,
      "grid_template_columns": null,
      "grid_template_rows": null,
      "height": null,
      "justify_content": null,
      "justify_items": null,
      "left": null,
      "margin": null,
      "max_height": null,
      "max_width": null,
      "min_height": null,
      "min_width": null,
      "object_fit": null,
      "object_position": null,
      "order": null,
      "overflow": null,
      "overflow_x": null,
      "overflow_y": null,
      "padding": null,
      "right": null,
      "top": null,
      "visibility": null,
      "width": null
     }
    },
    "46934bccbebb407295e009ba652a3629": {
     "model_module": "@jupyter-widgets/controls",
     "model_name": "HBoxModel",
     "state": {
      "_dom_classes": [],
      "_model_module": "@jupyter-widgets/controls",
      "_model_module_version": "1.5.0",
      "_model_name": "HBoxModel",
      "_view_count": null,
      "_view_module": "@jupyter-widgets/controls",
      "_view_module_version": "1.5.0",
      "_view_name": "HBoxView",
      "box_style": "",
      "children": [
       "IPY_MODEL_565efdc1bf144a118ed638f8597d7cfd",
       "IPY_MODEL_bfedb2d3ece3451ea329430363e8dd61"
      ],
      "layout": "IPY_MODEL_2d71dc6a787647238ae1bae37810fbab"
     }
    },
    "477d862e5f194dc98c5eb9168af6f219": {
     "model_module": "@jupyter-widgets/base",
     "model_name": "LayoutModel",
     "state": {
      "_model_module": "@jupyter-widgets/base",
      "_model_module_version": "1.2.0",
      "_model_name": "LayoutModel",
      "_view_count": null,
      "_view_module": "@jupyter-widgets/base",
      "_view_module_version": "1.2.0",
      "_view_name": "LayoutView",
      "align_content": null,
      "align_items": null,
      "align_self": null,
      "border": null,
      "bottom": null,
      "display": null,
      "flex": null,
      "flex_flow": null,
      "grid_area": null,
      "grid_auto_columns": null,
      "grid_auto_flow": null,
      "grid_auto_rows": null,
      "grid_column": null,
      "grid_gap": null,
      "grid_row": null,
      "grid_template_areas": null,
      "grid_template_columns": null,
      "grid_template_rows": null,
      "height": null,
      "justify_content": null,
      "justify_items": null,
      "left": null,
      "margin": null,
      "max_height": null,
      "max_width": null,
      "min_height": null,
      "min_width": null,
      "object_fit": null,
      "object_position": null,
      "order": null,
      "overflow": null,
      "overflow_x": null,
      "overflow_y": null,
      "padding": null,
      "right": null,
      "top": null,
      "visibility": null,
      "width": null
     }
    },
    "565efdc1bf144a118ed638f8597d7cfd": {
     "model_module": "@jupyter-widgets/controls",
     "model_name": "FloatProgressModel",
     "state": {
      "_dom_classes": [],
      "_model_module": "@jupyter-widgets/controls",
      "_model_module_version": "1.5.0",
      "_model_name": "FloatProgressModel",
      "_view_count": null,
      "_view_module": "@jupyter-widgets/controls",
      "_view_module_version": "1.5.0",
      "_view_name": "ProgressView",
      "bar_style": "success",
      "description": "100%",
      "description_tooltip": null,
      "layout": "IPY_MODEL_5d56259f7ad74914be64a06158410366",
      "max": 46827520,
      "min": 0,
      "orientation": "horizontal",
      "style": "IPY_MODEL_e2a40fcea5b5482d9799f19c20fa60f0",
      "value": 46827520
     }
    },
    "5d56259f7ad74914be64a06158410366": {
     "model_module": "@jupyter-widgets/base",
     "model_name": "LayoutModel",
     "state": {
      "_model_module": "@jupyter-widgets/base",
      "_model_module_version": "1.2.0",
      "_model_name": "LayoutModel",
      "_view_count": null,
      "_view_module": "@jupyter-widgets/base",
      "_view_module_version": "1.2.0",
      "_view_name": "LayoutView",
      "align_content": null,
      "align_items": null,
      "align_self": null,
      "border": null,
      "bottom": null,
      "display": null,
      "flex": null,
      "flex_flow": null,
      "grid_area": null,
      "grid_auto_columns": null,
      "grid_auto_flow": null,
      "grid_auto_rows": null,
      "grid_column": null,
      "grid_gap": null,
      "grid_row": null,
      "grid_template_areas": null,
      "grid_template_columns": null,
      "grid_template_rows": null,
      "height": null,
      "justify_content": null,
      "justify_items": null,
      "left": null,
      "margin": null,
      "max_height": null,
      "max_width": null,
      "min_height": null,
      "min_width": null,
      "object_fit": null,
      "object_position": null,
      "order": null,
      "overflow": null,
      "overflow_x": null,
      "overflow_y": null,
      "padding": null,
      "right": null,
      "top": null,
      "visibility": null,
      "width": null
     }
    },
    "6f9d93eb59ba4474bba343cac7c35f8f": {
     "model_module": "@jupyter-widgets/controls",
     "model_name": "DescriptionStyleModel",
     "state": {
      "_model_module": "@jupyter-widgets/controls",
      "_model_module_version": "1.5.0",
      "_model_name": "DescriptionStyleModel",
      "_view_count": null,
      "_view_module": "@jupyter-widgets/base",
      "_view_module_version": "1.2.0",
      "_view_name": "StyleView",
      "description_width": ""
     }
    },
    "9d2c826fed0a4974b4bb24071f656e77": {
     "model_module": "@jupyter-widgets/controls",
     "model_name": "DescriptionStyleModel",
     "state": {
      "_model_module": "@jupyter-widgets/controls",
      "_model_module_version": "1.5.0",
      "_model_name": "DescriptionStyleModel",
      "_view_count": null,
      "_view_module": "@jupyter-widgets/base",
      "_view_module_version": "1.2.0",
      "_view_name": "StyleView",
      "description_width": ""
     }
    },
    "a28854a37d25430aa309039066bb5d93": {
     "model_module": "@jupyter-widgets/controls",
     "model_name": "FloatProgressModel",
     "state": {
      "_dom_classes": [],
      "_model_module": "@jupyter-widgets/controls",
      "_model_module_version": "1.5.0",
      "_model_name": "FloatProgressModel",
      "_view_count": null,
      "_view_module": "@jupyter-widgets/controls",
      "_view_module_version": "1.5.0",
      "_view_name": "ProgressView",
      "bar_style": "success",
      "description": "",
      "description_tooltip": null,
      "layout": "IPY_MODEL_e6fa3b54ad3442fcb17e8986a7487a0d",
      "max": 170498071,
      "min": 0,
      "orientation": "horizontal",
      "style": "IPY_MODEL_e09886c1368c4df8a5bf96ad735db63e",
      "value": 170498071
     }
    },
    "b7fcc1bf8b9b4868b4d82ef82a9616fc": {
     "model_module": "@jupyter-widgets/base",
     "model_name": "LayoutModel",
     "state": {
      "_model_module": "@jupyter-widgets/base",
      "_model_module_version": "1.2.0",
      "_model_name": "LayoutModel",
      "_view_count": null,
      "_view_module": "@jupyter-widgets/base",
      "_view_module_version": "1.2.0",
      "_view_name": "LayoutView",
      "align_content": null,
      "align_items": null,
      "align_self": null,
      "border": null,
      "bottom": null,
      "display": null,
      "flex": null,
      "flex_flow": null,
      "grid_area": null,
      "grid_auto_columns": null,
      "grid_auto_flow": null,
      "grid_auto_rows": null,
      "grid_column": null,
      "grid_gap": null,
      "grid_row": null,
      "grid_template_areas": null,
      "grid_template_columns": null,
      "grid_template_rows": null,
      "height": null,
      "justify_content": null,
      "justify_items": null,
      "left": null,
      "margin": null,
      "max_height": null,
      "max_width": null,
      "min_height": null,
      "min_width": null,
      "object_fit": null,
      "object_position": null,
      "order": null,
      "overflow": null,
      "overflow_x": null,
      "overflow_y": null,
      "padding": null,
      "right": null,
      "top": null,
      "visibility": null,
      "width": null
     }
    },
    "bfedb2d3ece3451ea329430363e8dd61": {
     "model_module": "@jupyter-widgets/controls",
     "model_name": "HTMLModel",
     "state": {
      "_dom_classes": [],
      "_model_module": "@jupyter-widgets/controls",
      "_model_module_version": "1.5.0",
      "_model_name": "HTMLModel",
      "_view_count": null,
      "_view_module": "@jupyter-widgets/controls",
      "_view_module_version": "1.5.0",
      "_view_name": "HTMLView",
      "description": "",
      "description_tooltip": null,
      "layout": "IPY_MODEL_477d862e5f194dc98c5eb9168af6f219",
      "placeholder": "​",
      "style": "IPY_MODEL_6f9d93eb59ba4474bba343cac7c35f8f",
      "value": " 44.7M/44.7M [05:14&lt;00:00, 149kB/s]"
     }
    },
    "cd0f286c3c1e49b6877e951ae9620a6b": {
     "model_module": "@jupyter-widgets/controls",
     "model_name": "HTMLModel",
     "state": {
      "_dom_classes": [],
      "_model_module": "@jupyter-widgets/controls",
      "_model_module_version": "1.5.0",
      "_model_name": "HTMLModel",
      "_view_count": null,
      "_view_module": "@jupyter-widgets/controls",
      "_view_module_version": "1.5.0",
      "_view_name": "HTMLView",
      "description": "",
      "description_tooltip": null,
      "layout": "IPY_MODEL_b7fcc1bf8b9b4868b4d82ef82a9616fc",
      "placeholder": "​",
      "style": "IPY_MODEL_9d2c826fed0a4974b4bb24071f656e77",
      "value": " 170499072/? [00:29&lt;00:00, 5866364.75it/s]"
     }
    },
    "e09886c1368c4df8a5bf96ad735db63e": {
     "model_module": "@jupyter-widgets/controls",
     "model_name": "ProgressStyleModel",
     "state": {
      "_model_module": "@jupyter-widgets/controls",
      "_model_module_version": "1.5.0",
      "_model_name": "ProgressStyleModel",
      "_view_count": null,
      "_view_module": "@jupyter-widgets/base",
      "_view_module_version": "1.2.0",
      "_view_name": "StyleView",
      "bar_color": null,
      "description_width": "initial"
     }
    },
    "e2a40fcea5b5482d9799f19c20fa60f0": {
     "model_module": "@jupyter-widgets/controls",
     "model_name": "ProgressStyleModel",
     "state": {
      "_model_module": "@jupyter-widgets/controls",
      "_model_module_version": "1.5.0",
      "_model_name": "ProgressStyleModel",
      "_view_count": null,
      "_view_module": "@jupyter-widgets/base",
      "_view_module_version": "1.2.0",
      "_view_name": "StyleView",
      "bar_color": null,
      "description_width": "initial"
     }
    },
    "e3f91cefe3e34d4abf86c327b570bee2": {
     "model_module": "@jupyter-widgets/controls",
     "model_name": "HBoxModel",
     "state": {
      "_dom_classes": [],
      "_model_module": "@jupyter-widgets/controls",
      "_model_module_version": "1.5.0",
      "_model_name": "HBoxModel",
      "_view_count": null,
      "_view_module": "@jupyter-widgets/controls",
      "_view_module_version": "1.5.0",
      "_view_name": "HBoxView",
      "box_style": "",
      "children": [
       "IPY_MODEL_a28854a37d25430aa309039066bb5d93",
       "IPY_MODEL_cd0f286c3c1e49b6877e951ae9620a6b"
      ],
      "layout": "IPY_MODEL_2933f65d6ec9468697c4365d3474f098"
     }
    },
    "e6fa3b54ad3442fcb17e8986a7487a0d": {
     "model_module": "@jupyter-widgets/base",
     "model_name": "LayoutModel",
     "state": {
      "_model_module": "@jupyter-widgets/base",
      "_model_module_version": "1.2.0",
      "_model_name": "LayoutModel",
      "_view_count": null,
      "_view_module": "@jupyter-widgets/base",
      "_view_module_version": "1.2.0",
      "_view_name": "LayoutView",
      "align_content": null,
      "align_items": null,
      "align_self": null,
      "border": null,
      "bottom": null,
      "display": null,
      "flex": null,
      "flex_flow": null,
      "grid_area": null,
      "grid_auto_columns": null,
      "grid_auto_flow": null,
      "grid_auto_rows": null,
      "grid_column": null,
      "grid_gap": null,
      "grid_row": null,
      "grid_template_areas": null,
      "grid_template_columns": null,
      "grid_template_rows": null,
      "height": null,
      "justify_content": null,
      "justify_items": null,
      "left": null,
      "margin": null,
      "max_height": null,
      "max_width": null,
      "min_height": null,
      "min_width": null,
      "object_fit": null,
      "object_position": null,
      "order": null,
      "overflow": null,
      "overflow_x": null,
      "overflow_y": null,
      "padding": null,
      "right": null,
      "top": null,
      "visibility": null,
      "width": null
     }
    }
   }
  }
 },
 "nbformat": 4,
 "nbformat_minor": 1
}